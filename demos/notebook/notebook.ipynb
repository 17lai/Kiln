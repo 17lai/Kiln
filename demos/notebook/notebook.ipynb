{
 "cells": [
  {
   "cell_type": "code",
   "execution_count": 24,
   "metadata": {},
   "outputs": [
    {
     "name": "stdout",
     "output_type": "stream",
     "text": [
      "Reading Kiln project\n",
      "\n",
      "Title: Voicebox\n",
      "Description: A project using technology to aid people who lack both the ability to speak and fine motor control. This is common with cerebral palsy. Learn more at https://github.com/scosman/voicebox\n",
      "Created By: scosman\n",
      "Created At: 2024-10-24 13:14:43.662378\n"
     ]
    }
   ],
   "source": [
    "from kiln_ai.datamodel import Project\n",
    "\n",
    "print(\"Reading Kiln project\")\n",
    "project = Project.load_from_file(\"../projects/voicebox/project.kiln\")\n",
    "print(\"\\nTitle:\", project.name)\n",
    "print(\"Description:\", project.description)\n",
    "print(\"Created By:\", project.created_by)\n",
    "print(\"Created At:\", project.created_at)"
   ]
  },
  {
   "cell_type": "code",
   "execution_count": 25,
   "metadata": {},
   "outputs": [
    {
     "name": "stdout",
     "output_type": "stream",
     "text": [
      "\n",
      "Task: Sentence Expansion Structured\n",
      "ID: 666916389666\n",
      "Description: Expanding sentence fragments into complete sentences. Given a context, you provide a set of options for sentence completion for the user to choose between.\n",
      "Created By: scosman\n",
      "Created At: 2024-10-24 13:38:46.284477\n",
      "Location: ../projects/voicebox/tasks/666916389666 - Sentence Expansion Structured/task.kiln\n",
      "Total dataset size: 19\n",
      "Rated dataset items: 8\n"
     ]
    }
   ],
   "source": [
    "task = next(t for t in project.tasks() if t.id == \"666916389666\")\n",
    "print(\"\\nTask:\", task.name)\n",
    "print(\"ID:\", task.id)\n",
    "print(\"Description:\", task.description)\n",
    "print(\"Created By:\", task.created_by)\n",
    "print(\"Created At:\", task.created_at)\n",
    "print(\"Location:\", task.path)\n",
    "\n",
    "print(\"Total dataset size:\", len(task.runs()))\n",
    "print(\n",
    "    \"Rated dataset items:\",\n",
    "    len([run for run in task.runs() if run.output.rating is not None]),\n",
    ")"
   ]
  },
  {
   "cell_type": "code",
   "execution_count": 26,
   "metadata": {},
   "outputs": [
    {
     "data": {
      "image/png": "[encoded data removed]",
      "text/plain": [
       "<Figure size 800x500 with 1 Axes>"
      ]
     },
     "metadata": {},
     "output_type": "display_data"
    }
   ],
   "source": [
    "# Some simple analysis, importing into a pandas dataframe\n",
    "\n",
    "import glob\n",
    "import json\n",
    "from pathlib import Path\n",
    "\n",
    "import pandas as pd\n",
    "\n",
    "dataitem_glob = str(task.path.parent) + \"/runs/*/task_run.kiln\"\n",
    "\n",
    "dfs = []\n",
    "for file in glob.glob(dataitem_glob):\n",
    "    js = json.loads(Path(file).read_text())\n",
    "    df = pd.json_normalize(js)\n",
    "    dfs.append(df)\n",
    "final_df = pd.concat(dfs, ignore_index=True)\n",
    "\n",
    "# Map None ratings to 'no_rating', keep numeric ratings as is\n",
    "ratings = [\"no_rating\" if pd.isna(r) else r for r in final_df[\"output.rating.value\"]]\n",
    "ratings = [r for r in final_df[\"output.rating.value\"] if not pd.isna(r)]\n",
    "\n",
    "# Create a histogram of ratings\n",
    "import matplotlib.pyplot as plt\n",
    "\n",
    "plt.figure(figsize=(8, 5))\n",
    "plt.hist(ratings)\n",
    "plt.title(\"Distribution of Ratings\")\n",
    "plt.xlabel(\"Rating\")\n",
    "plt.ylabel(\"Count\")\n",
    "plt.xticks(\n",
    "    range(int(min(ratings)), int(max(ratings)) + 1)\n",
    ")  # Set ticks to whole numbers\n",
    "plt.tight_layout()\n",
    "plt.show()"
   ]
  }
 ],
 "metadata": {
  "kernelspec": {
   "display_name": ".venv",
   "language": "python",
   "name": "python3"
  },
  "language_info": {
   "codemirror_mode": {
    "name": "ipython",
    "version": 3
   },
   "file_extension": ".py",
   "mimetype": "text/x-python",
   "name": "python",
   "nbconvert_exporter": "python",
   "pygments_lexer": "ipython3",
   "version": "3.12.7"
  }
 },
 "nbformat": 4,
 "nbformat_minor": 2
}
